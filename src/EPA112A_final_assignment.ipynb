{
 "cells": [
  {
   "cell_type": "markdown",
   "id": "ea8e666c-fb2f-4460-8bec-3f3fc168520b",
   "metadata": {},
   "source": [
    "Final Assignment"
   ]
  },
  {
   "cell_type": "code",
   "execution_count": null,
   "id": "1f6bc050-1505-4464-9aa4-51d52a38bb3f",
   "metadata": {},
   "outputs": [],
   "source": []
  },
  {
   "cell_type": "code",
   "execution_count": null,
   "id": "97791263-df07-4544-980f-51cb549e36f5",
   "metadata": {},
   "outputs": [],
   "source": []
  }
 ],
 "metadata": {
  "kernelspec": {
   "display_name": "Python 3",
   "language": "python",
   "name": "python3"
  },
  "language_info": {
   "codemirror_mode": {
    "name": "ipython",
    "version": 3
   },
   "file_extension": ".py",
   "mimetype": "text/x-python",
   "name": "python",
   "nbconvert_exporter": "python",
   "pygments_lexer": "ipython3",
   "version": "3.8.8"
  }
 },
 "nbformat": 4,
 "nbformat_minor": 5
}

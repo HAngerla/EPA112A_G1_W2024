{
 "cells": [
  {
   "cell_type": "markdown",
   "metadata": {},
   "source": [
    "EPA112A Programming for Data Science (2024/25 Q1)\n",
    "Group Project\n",
    "### Title of the project\n",
    "Group 1:\n",
    "Helena Angerla, 5300401\n",
    "Derk de Brauw, 4726731\n",
    "name, number"
   ]
  },
  {
   "cell_type": "markdown",
   "metadata": {},
   "source": [
    "# Introduction\n",
    "In developing countries, rapid economic growth is often associated with increased CO2 emissions, raising concerns about environmental sustainability. This study aims to analyze the relationship between economic growth, measured by GDP, and CO2 emissions as an indicator of environmental sustainability. The hypothesis is that at lower levels of GDP, economic growth contributes to higher emissions, but after reaching a certain threshold, further growth could lead to a reduction in emissions—a concept known as the Environmental Kuznets Curve (EKC). The research seeks to identify this tipping point, using global datasets such as World Development Indicators and CO2 emissions databases."
   ]
  },
  {
   "cell_type": "markdown",
   "metadata": {},
   "source": [
    "# Datasets\n",
    "presenting the data we use.\n",
    "\n",
    "Present the data that you are going to use. Your data must come from at least two sources (one additional source aside from the World Bank data)."
   ]
  },
  {
   "cell_type": "markdown",
   "metadata": {},
   "source": [
    "# Preprocessing\n",
    "Explain how you clean, format and do any pre-processing work that you find useful, making the data useful for your goals. Implement the steps that you describe in python. Basically, how we will manage the data.\n"
   ]
  },
  {
   "cell_type": "code",
   "execution_count": null,
   "metadata": {},
   "outputs": [],
   "source": []
  },
  {
   "cell_type": "markdown",
   "metadata": {},
   "source": [
    "# Exploration\n",
    "Exploratory data analysis – get to know your data."
   ]
  },
  {
   "cell_type": "code",
   "execution_count": null,
   "metadata": {},
   "outputs": [],
   "source": []
  },
  {
   "cell_type": "markdown",
   "metadata": {},
   "source": [
    "# Visualization\n",
    "Use multiple types of visualization on the data that make sense for your goal."
   ]
  },
  {
   "cell_type": "code",
   "execution_count": null,
   "metadata": {},
   "outputs": [],
   "source": []
  },
  {
   "cell_type": "markdown",
   "metadata": {},
   "source": [
    "# Machine Learning\n",
    "Use at least one machine learning technique to make meaningful predictions over (part of) the data."
   ]
  },
  {
   "cell_type": "code",
   "execution_count": null,
   "metadata": {},
   "outputs": [],
   "source": []
  },
  {
   "cell_type": "markdown",
   "metadata": {},
   "source": [
    "# Discussion\n",
    "Interpret your results in relation to your research question. Were there any surprises in your research? How reliable do you think your results are? Are there any\n",
    "limitations to your analysis?"
   ]
  },
  {
   "cell_type": "markdown",
   "metadata": {},
   "source": [
    "# Conclusion\n",
    "What did you learn?"
   ]
  },
  {
   "cell_type": "markdown",
   "metadata": {},
   "source": [
    "# Sources"
   ]
  },
  {
   "cell_type": "code",
   "execution_count": null,
   "metadata": {},
   "outputs": [],
   "source": []
  }
 ],
 "metadata": {
  "kernelspec": {
   "display_name": "Python 3",
   "language": "python",
   "name": "python3"
  },
  "language_info": {
   "codemirror_mode": {
    "name": "ipython",
    "version": 3
   },
   "file_extension": ".py",
   "mimetype": "text/x-python",
   "name": "python",
   "nbconvert_exporter": "python",
   "pygments_lexer": "ipython3",
   "version": "3.8.5"
  }
 },
 "nbformat": 4,
 "nbformat_minor": 5
}

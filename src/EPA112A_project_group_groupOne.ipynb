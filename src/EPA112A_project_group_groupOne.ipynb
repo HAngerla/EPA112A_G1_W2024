{
 "cells": [
  {
   "cell_type": "markdown",
   "id": "ea8e666c-fb2f-4460-8bec-3f3fc168520b",
   "metadata": {},
   "source": [
    "EPA112A Programming for Data Science (2024/25 Q1)\n",
    "Group Project\n",
    "### Title of the project\n",
    "Group 1:\n",
    "Helena Angerla, 5300401\n",
    "name, number\n",
    "name, number"
   ]
  },
  {
   "cell_type": "markdown",
   "id": "5fa622ca-987b-4f5e-b878-bdd52f87672e",
   "metadata": {},
   "source": [
    "# Introduction\n",
    "Include a problem statement and your research question(s). You can pick one SDG as a starting point (frame) for your problem."
   ]
  },
  {
   "cell_type": "markdown",
   "id": "08bc3c5e-c432-4fb2-bebc-3c027c11eba9",
   "metadata": {},
   "source": [
    "# Datasets\n",
    "presenting the data we use.\n",
    "\n",
    "Present the data that you are going to use. Your data must come from at least two sources (one additional source aside from the World Bank data)."
   ]
  },
  {
   "cell_type": "markdown",
   "id": "319ee5c5-6483-4874-8e32-49620305f7c1",
   "metadata": {},
   "source": [
    "# Preprocessing\n",
    "Explain how you clean, format and do any pre-processing work that you find useful, making the data useful for your goals. Implement the steps that you describe in python. Basically, how we will manage the data.\n"
   ]
  },
  {
   "cell_type": "code",
   "execution_count": null,
   "id": "424efd49-c11b-4fb6-a8fc-c941aab58636",
   "metadata": {},
   "outputs": [],
   "source": []
  },
  {
   "cell_type": "markdown",
   "id": "1bb6a7ff-e28b-4a75-a82a-1f5681b5f571",
   "metadata": {},
   "source": [
    "# Exploration\n",
    "Exploratory data analysis – get to know your data."
   ]
  },
  {
   "cell_type": "code",
   "execution_count": null,
   "id": "c3438158-b3c2-42af-a707-54c99fd22f52",
   "metadata": {},
   "outputs": [],
   "source": []
  },
  {
   "cell_type": "markdown",
   "id": "e79559cc-1b53-48cb-9d9f-39e4845089e0",
   "metadata": {},
   "source": [
    "# Visualization\n",
    "Use multiple types of visualization on the data that make sense for your goal."
   ]
  },
  {
   "cell_type": "code",
   "execution_count": null,
   "id": "5bd54361-281e-4245-a56a-d77082c8a824",
   "metadata": {},
   "outputs": [],
   "source": []
  },
  {
   "cell_type": "markdown",
   "id": "2316048a-a7e8-49b2-8813-5cccec750c52",
   "metadata": {},
   "source": [
    "# Machine Learning\n",
    "Use at least one machine learning technique to make meaningful predictions over (part of) the data."
   ]
  },
  {
   "cell_type": "code",
   "execution_count": null,
   "id": "2d3218b4-e990-4c8d-8eaa-69aaa3622548",
   "metadata": {},
   "outputs": [],
   "source": []
  },
  {
   "cell_type": "markdown",
   "id": "49646c8f-16b9-4f0c-ba64-c2e5ec8c4e39",
   "metadata": {},
   "source": [
    "# Discussion\n",
    "Interpret your results in relation to your research question. Were there any surprises in your research? How reliable do you think your results are? Are there any\n",
    "limitations to your analysis?"
   ]
  },
  {
   "cell_type": "markdown",
   "id": "c61587f7-6ad2-4d56-bbd7-5359d1e006ba",
   "metadata": {},
   "source": [
    "# Conclusion\n",
    "What did you learn?"
   ]
  },
  {
   "cell_type": "markdown",
   "id": "c7c28f19-a46f-4ae9-8175-16a2208bac3b",
   "metadata": {},
   "source": [
    "# Sources"
   ]
  },
  {
   "cell_type": "code",
   "execution_count": null,
   "id": "51ccb658-ec07-4267-8a8f-945091e8755c",
   "metadata": {},
   "outputs": [],
   "source": []
  }
 ],
 "metadata": {
  "kernelspec": {
   "display_name": "Python 3",
   "language": "python",
   "name": "python3"
  },
  "language_info": {
   "codemirror_mode": {
    "name": "ipython",
    "version": 3
   },
   "file_extension": ".py",
   "mimetype": "text/x-python",
   "name": "python",
   "nbconvert_exporter": "python",
   "pygments_lexer": "ipython3",
   "version": "3.8.8"
  }
 },
 "nbformat": 4,
 "nbformat_minor": 5
}
